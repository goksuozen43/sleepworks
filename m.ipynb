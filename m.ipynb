{
 "cells": [
  {
   "cell_type": "code",
   "execution_count": 1,
   "id": "b99c236b",
   "metadata": {},
   "outputs": [
    {
     "name": "stdout",
     "output_type": "stream",
     "text": [
      "Extracting EDF parameters from C:\\Users\\bycvk\\Downloads\\Telegram Desktop\\p01\\data.edf...\n",
      "EDF file detected\n",
      "Setting channel info structure...\n",
      "Creating raw.info structure...\n"
     ]
    }
   ],
   "source": [
    "import mne\n",
    "file = \"data.edf\"\n",
    "data = mne.io.read_raw_edf(file)\n",
    "raw_data = data.get_data()\n",
    "# you can get the metadata included in the file and a list of all channels:\n",
    "info = data.info\n",
    "channels = data.ch_names"
   ]
  },
  {
   "cell_type": "code",
   "execution_count": 2,
   "id": "911eea11",
   "metadata": {},
   "outputs": [
    {
     "data": {
      "text/plain": [
       "'data.edf'"
      ]
     },
     "execution_count": 2,
     "metadata": {},
     "output_type": "execute_result"
    }
   ],
   "source": [
    "file"
   ]
  },
  {
   "cell_type": "code",
   "execution_count": 3,
   "id": "597ac66b",
   "metadata": {},
   "outputs": [
    {
     "data": {
      "text/plain": [
       "dict_keys(['acq_pars', 'acq_stim', 'ctf_head_t', 'description', 'dev_ctf_t', 'dig', 'experimenter', 'utc_offset', 'device_info', 'file_id', 'highpass', 'hpi_subsystem', 'kit_system_id', 'helium_info', 'line_freq', 'lowpass', 'meas_date', 'meas_id', 'proj_id', 'proj_name', 'subject_info', 'xplotter_layout', 'gantry_angle', 'bads', 'chs', 'comps', 'events', 'hpi_meas', 'hpi_results', 'projs', 'proc_history', 'custom_ref_applied', 'sfreq', 'dev_head_t', 'ch_names', 'nchan'])"
      ]
     },
     "execution_count": 3,
     "metadata": {},
     "output_type": "execute_result"
    }
   ],
   "source": [
    "data.info.keys()"
   ]
  },
  {
   "cell_type": "code",
   "execution_count": 4,
   "id": "09287811",
   "metadata": {},
   "outputs": [
    {
     "data": {
      "text/plain": [
       "array([[ 1.05007858e-05,  1.07666285e-05,  1.95394369e-05, ...,\n",
       "        -1.32921340e-07, -1.32921340e-07, -1.32921340e-07],\n",
       "       [ 8.30758373e-05,  1.09925948e-04,  9.74313420e-05, ...,\n",
       "        -1.32921340e-07, -1.32921340e-07, -1.32921340e-07],\n",
       "       [ 1.39567407e-05,  8.90572976e-06, -2.69830320e-05, ...,\n",
       "        -1.32921340e-07, -1.32921340e-07, -1.32921340e-07],\n",
       "       ...,\n",
       "       [ 9.50006623e+01,  9.50006623e+01,  9.50006623e+01, ...,\n",
       "         0.00000000e+00,  0.00000000e+00,  0.00000000e+00],\n",
       "       [ 6.60000000e+01,  6.60000000e+01,  6.60000000e+01, ...,\n",
       "         0.00000000e+00,  0.00000000e+00,  0.00000000e+00],\n",
       "       [ 1.30001892e+02,  1.30001892e+02,  1.30001892e+02, ...,\n",
       "         0.00000000e+00,  0.00000000e+00,  0.00000000e+00]])"
      ]
     },
     "execution_count": 4,
     "metadata": {},
     "output_type": "execute_result"
    }
   ],
   "source": [
    "raw_data"
   ]
  },
  {
   "cell_type": "code",
   "execution_count": 5,
   "id": "11ceb040",
   "metadata": {},
   "outputs": [
    {
     "data": {
      "text/plain": [
       "['C3',\n",
       " 'C4',\n",
       " 'Cz',\n",
       " 'F3',\n",
       " 'F4',\n",
       " 'F7',\n",
       " 'F8',\n",
       " 'Fz',\n",
       " 'Fp1',\n",
       " 'Fp2',\n",
       " 'Fpz',\n",
       " 'M1',\n",
       " 'M2',\n",
       " 'O1',\n",
       " 'O2',\n",
       " 'Oz',\n",
       " 'P3',\n",
       " 'P4',\n",
       " 'P7',\n",
       " 'P8',\n",
       " 'Pz',\n",
       " 'T7',\n",
       " 'T8',\n",
       " 'X25',\n",
       " 'X26',\n",
       " 'X28',\n",
       " 'X29',\n",
       " 'X30',\n",
       " 'X31',\n",
       " 'X32',\n",
       " 'ECG-LA',\n",
       " 'ECG-RA',\n",
       " 'ECG-LL',\n",
       " 'ECG-V1',\n",
       " 'ECG-V2',\n",
       " 'E1',\n",
       " 'E2',\n",
       " 'CHIN1',\n",
       " 'CHIN2',\n",
       " 'CHINz',\n",
       " 'CHE',\n",
       " 'ST',\n",
       " 'ABD',\n",
       " 'OMEN',\n",
       " 'SNO',\n",
       " 'RE',\n",
       " 'FL',\n",
       " 'OW',\n",
       " 'DIF5+',\n",
       " 'DIF5-',\n",
       " 'DIF6+',\n",
       " 'DIF6-',\n",
       " 'DIF7+',\n",
       " 'DIF7-',\n",
       " 'DIF8+',\n",
       " 'DIF8-',\n",
       " 'DIF9+',\n",
       " 'DIF9-',\n",
       " 'DIF10+',\n",
       " 'DIF10-',\n",
       " 'RLEG+',\n",
       " 'RLEG-',\n",
       " 'LLEG+',\n",
       " 'LLEG-',\n",
       " 'Snore',\n",
       " 'Flow',\n",
       " 'Pressure',\n",
       " 'Flow_DR',\n",
       " 'Snore_DR',\n",
       " 'Abdomen',\n",
       " 'Chest',\n",
       " 'Phase',\n",
       " 'RMI',\n",
       " 'RR',\n",
       " 'XSum',\n",
       " 'XFlow',\n",
       " 'XVolume',\n",
       " 'Position',\n",
       " 'Elevation',\n",
       " 'Activity',\n",
       " 'PPG',\n",
       " 'PTT',\n",
       " 'Pleth',\n",
       " 'Bpos',\n",
       " 'DC14',\n",
       " 'DC15',\n",
       " 'DC16',\n",
       " 'DC1',\n",
       " 'DC2',\n",
       " 'DC3',\n",
       " 'DC4',\n",
       " 'DC5',\n",
       " 'DC6',\n",
       " 'DC7',\n",
       " 'DC8',\n",
       " 'DC9',\n",
       " 'DC10',\n",
       " 'DC11',\n",
       " 'DC12',\n",
       " 'TRIG',\n",
       " 'SpO2',\n",
       " 'PR',\n",
       " 'PulseQuality']"
      ]
     },
     "execution_count": 5,
     "metadata": {},
     "output_type": "execute_result"
    }
   ],
   "source": [
    "channels"
   ]
  },
  {
   "cell_type": "code",
   "execution_count": 1,
   "id": "785a62a5",
   "metadata": {},
   "outputs": [
    {
     "data": {
      "text/plain": [
       "<Annotations | 3394 segments: EEG arousal (2), Gain/Filter Change (32), ...>"
      ]
     },
     "execution_count": 1,
     "metadata": {},
     "output_type": "execute_result"
    }
   ],
   "source": [
    "import mne\n",
    "annot = mne.read_annotations(\"data.edf\", uint16_codec = None)\n",
    "annot"
   ]
  },
  {
   "cell_type": "code",
   "execution_count": null,
   "id": "d46351fa",
   "metadata": {},
   "outputs": [],
   "source": []
  }
 ],
 "metadata": {
  "kernelspec": {
   "display_name": "Python 3 (ipykernel)",
   "language": "python",
   "name": "python3"
  },
  "language_info": {
   "codemirror_mode": {
    "name": "ipython",
    "version": 3
   },
   "file_extension": ".py",
   "mimetype": "text/x-python",
   "name": "python",
   "nbconvert_exporter": "python",
   "pygments_lexer": "ipython3",
   "version": "3.10.9"
  }
 },
 "nbformat": 4,
 "nbformat_minor": 5
}
