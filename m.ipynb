{
 "cells": [
  {
   "cell_type": "markdown",
   "id": "dfb551c1",
   "metadata": {},
   "source": [
    "## Datanın Okunması "
   ]
  },
  {
   "cell_type": "code",
   "execution_count": null,
   "id": "c9059783",
   "metadata": {},
   "outputs": [],
   "source": [
    "import datetime\n",
    "import mne\n",
    "import pandas as pd"
   ]
  },
  {
   "cell_type": "code",
   "execution_count": null,
   "id": "f5c63e94",
   "metadata": {},
   "outputs": [],
   "source": [
    "\n",
    "file = \"data.edf\"\n",
    "data = mne.io.read_raw_edf(file)\n",
    "raw_data = data.get_data()\n",
    "# you can get the metadata included in the file and a list of all channels:\n",
    "info = data.info\n",
    "channels = data.ch_names"
   ]
  },
  {
   "cell_type": "code",
   "execution_count": null,
   "id": "62d5ad5c",
   "metadata": {
    "scrolled": true
   },
   "outputs": [],
   "source": [
    "raw_data"
   ]
  },
  {
   "cell_type": "code",
   "execution_count": null,
   "id": "4e145960",
   "metadata": {},
   "outputs": [],
   "source": [
    "df = pd.DataFrame(raw_data).T\n",
    "df.columns = channels"
   ]
  },
  {
   "cell_type": "code",
   "execution_count": null,
   "id": "b13cf008",
   "metadata": {
    "scrolled": true
   },
   "outputs": [],
   "source": [
    "df"
   ]
  },
  {
   "cell_type": "markdown",
   "id": "8abdd896",
   "metadata": {},
   "source": [
    "## Annotation dan Time ve Sleep Stage lerin Belirlenmesi"
   ]
  },
  {
   "cell_type": "code",
   "execution_count": null,
   "id": "e6f83e48",
   "metadata": {},
   "outputs": [],
   "source": [
    "annot = mne.read_annotations(\"data.edf\")\n",
    "annot"
   ]
  },
  {
   "cell_type": "code",
   "execution_count": null,
   "id": "09c87aa2",
   "metadata": {},
   "outputs": [],
   "source": [
    "type(annot)"
   ]
  },
  {
   "cell_type": "code",
   "execution_count": null,
   "id": "d55fa857",
   "metadata": {},
   "outputs": [],
   "source": [
    "annot[13]"
   ]
  },
  {
   "cell_type": "code",
   "execution_count": null,
   "id": "215bd262",
   "metadata": {
    "scrolled": true
   },
   "outputs": [],
   "source": [
    "annot_desc = {}\n",
    "for i in range(3394):\n",
    "    annot_desc[i] = annot[i][\"description\"], annot[i][\"onset\"]"
   ]
  },
  {
   "cell_type": "code",
   "execution_count": null,
   "id": "8100c0d9",
   "metadata": {},
   "outputs": [],
   "source": [
    "annot_desc"
   ]
  },
  {
   "cell_type": "code",
   "execution_count": null,
   "id": "37f40939",
   "metadata": {},
   "outputs": [],
   "source": [
    "annot_desc_list = []\n",
    "annot_onset_list = []\n",
    "for i in range(3394):\n",
    "    if \"Sleep stage\" in annot[i][\"description\"]:\n",
    "        annot_desc_list.append(annot[i][\"description\"])\n",
    "        annot_onset_list.append(annot[i][\"onset\"])"
   ]
  },
  {
   "cell_type": "code",
   "execution_count": null,
   "id": "3e739847",
   "metadata": {
    "scrolled": false
   },
   "outputs": [],
   "source": [
    "annot_onset = pd.DataFrame(annot_onset_list)\n",
    "annot_onset"
   ]
  },
  {
   "cell_type": "code",
   "execution_count": null,
   "id": "3c833573",
   "metadata": {
    "scrolled": true
   },
   "outputs": [],
   "source": [
    "# en son elde edilen sn ki biz bunu 6.59.00 olarak biliyorduk edf browserdan \n",
    "59*60+6*60*60"
   ]
  },
  {
   "cell_type": "code",
   "execution_count": null,
   "id": "8a73e562",
   "metadata": {},
   "outputs": [],
   "source": [
    "annot_onset_time = []\n",
    "for i in annot_onset[0]:\n",
    "    annot_onset_time.append(str(datetime.timedelta(seconds=i)))"
   ]
  },
  {
   "cell_type": "code",
   "execution_count": null,
   "id": "268cab83",
   "metadata": {
    "scrolled": true
   },
   "outputs": [],
   "source": [
    "sleep_stages= pd.concat([pd.Series(annot_onset_time), pd.Series(annot_desc_list)], axis = 1)\n",
    "sleep_stages.columns = [\"onset\", \"sleep_stage\"]\n",
    "sleep_stages"
   ]
  },
  {
   "cell_type": "code",
   "execution_count": null,
   "id": "776a99ba",
   "metadata": {},
   "outputs": [],
   "source": []
  },
  {
   "cell_type": "markdown",
   "id": "88371819",
   "metadata": {},
   "source": [
    "### Epochlara Bakış "
   ]
  },
  {
   "cell_type": "code",
   "execution_count": null,
   "id": "519975b4",
   "metadata": {
    "scrolled": false
   },
   "outputs": [],
   "source": [
    "(6*60+59+0.5)*2"
   ]
  },
  {
   "cell_type": "code",
   "execution_count": null,
   "id": "656b06da",
   "metadata": {},
   "outputs": [],
   "source": [
    "(6*60+59+0.5)*30*512*2"
   ]
  },
  {
   "cell_type": "code",
   "execution_count": null,
   "id": "ff5d3a10",
   "metadata": {},
   "outputs": [],
   "source": [
    "419*30*512*2\n"
   ]
  },
  {
   "cell_type": "code",
   "execution_count": null,
   "id": "5d5ebbe1",
   "metadata": {
    "scrolled": true
   },
   "outputs": [],
   "source": [
    "6435810*2"
   ]
  },
  {
   "cell_type": "code",
   "execution_count": null,
   "id": "91ddbba8",
   "metadata": {},
   "outputs": [],
   "source": [
    "df[[\"C3\"]][:30*512].describe()"
   ]
  },
  {
   "cell_type": "code",
   "execution_count": null,
   "id": "186297bc",
   "metadata": {},
   "outputs": [],
   "source": [
    "15360*839\n",
    "# elimde 839 tane epoch var ve her epoch 15360 tane veri barındıryor. "
   ]
  },
  {
   "cell_type": "code",
   "execution_count": null,
   "id": "58d48fbc",
   "metadata": {},
   "outputs": [],
   "source": [
    "sleep_stages.value_counts()"
   ]
  },
  {
   "cell_type": "code",
   "execution_count": null,
   "id": "72c17773",
   "metadata": {},
   "outputs": [],
   "source": [
    "df[\"C3\"][:15360].plot(figsize=(16,8))"
   ]
  },
  {
   "cell_type": "code",
   "execution_count": null,
   "id": "55ba1cf8",
   "metadata": {
    "scrolled": true
   },
   "outputs": [],
   "source": [
    "df[\"C3\"][15360:30720].plot(figsize=(16,8))"
   ]
  },
  {
   "cell_type": "code",
   "execution_count": null,
   "id": "ab82e880",
   "metadata": {},
   "outputs": [],
   "source": []
  },
  {
   "cell_type": "code",
   "execution_count": null,
   "id": "13b1f747",
   "metadata": {},
   "outputs": [],
   "source": []
  },
  {
   "cell_type": "code",
   "execution_count": null,
   "id": "6ff20dc2",
   "metadata": {},
   "outputs": [],
   "source": []
  }
 ],
 "metadata": {
  "kernelspec": {
   "display_name": "Python 3 (ipykernel)",
   "language": "python",
   "name": "python3"
  },
  "language_info": {
   "codemirror_mode": {
    "name": "ipython",
    "version": 3
   },
   "file_extension": ".py",
   "mimetype": "text/x-python",
   "name": "python",
   "nbconvert_exporter": "python",
   "pygments_lexer": "ipython3",
   "version": "3.10.9"
  }
 },
 "nbformat": 4,
 "nbformat_minor": 5
}
